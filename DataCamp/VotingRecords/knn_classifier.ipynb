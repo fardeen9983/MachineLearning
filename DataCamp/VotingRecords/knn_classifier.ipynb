{
 "cells": [
  {
   "cell_type": "markdown",
   "metadata": {
    "collapsed": true,
    "pycharm": {
     "name": "#%% md\n"
    }
   },
   "source": [
    "## KNN classifier\n",
    "KNN classifiers take the state of k nearest neighbours and assign the majority value to the unknown data \n",
    "\n",
    "scikit-learn offers classes to:\n",
    "1. To build a model\n",
    "2. Train it \n",
    "3. Predict new labels based on above steps\n",
    "\n",
    "\n",
    "* Larger values of k - means smoother boundaries - less complex model\n",
    "* Smaller k values - more complex model - can lead to overfitting\n",
    "* Very large values of k - makes the model too simple - causes underfitting\n",
    "\n",
    "All these conditions can be visualised in a model complexity graph\n"
   ]
  },
  {
   "cell_type": "code",
   "execution_count": 15,
   "outputs": [],
   "source": [
    "# Import modules\n",
    "from sklearn.neighbors import KNeighborsClassifier\n",
    "import numpy as np\n",
    "import pandas as pd\n",
    "# Create a classifier that takes into account 6 neighbours\n",
    "knn = KNeighborsClassifier(n_neighbors=6)\n",
    "\n",
    "# Import the votes data set\n",
    "votes = pd.read_csv('votes.csv')\n",
    "\n",
    "# Separate the training and testing data\n",
    "y = votes['party'].values\n",
    "x = votes.drop('party',axis=1).values"
   ],
   "metadata": {
    "collapsed": false,
    "pycharm": {
     "name": "#%%\n",
     "is_executing": false
    }
   }
  },
  {
   "cell_type": "markdown",
   "source": [
    "### Fit the model"
   ],
   "metadata": {
    "collapsed": false
   }
  },
  {
   "cell_type": "code",
   "execution_count": 16,
   "outputs": [
    {
     "data": {
      "text/plain": "KNeighborsClassifier(algorithm='auto', leaf_size=30, metric='minkowski',\n                     metric_params=None, n_jobs=None, n_neighbors=6, p=2,\n                     weights='uniform')"
     },
     "metadata": {},
     "output_type": "execute_result",
     "execution_count": 16
    }
   ],
   "source": [
    "knn.fit(x,y)"
   ],
   "metadata": {
    "collapsed": false,
    "pycharm": {
     "name": "#%%\n",
     "is_executing": false
    }
   }
  },
  {
   "cell_type": "markdown",
   "source": [
    "### Predict unlabeled data"
   ],
   "metadata": {
    "collapsed": false,
    "pycharm": {
     "name": "#%% md\n"
    }
   }
  },
  {
   "cell_type": "code",
   "execution_count": 17,
   "outputs": [
    {
     "data": {
      "text/plain": "\"Prediction : ['democrat']\""
     },
     "metadata": {},
     "output_type": "execute_result",
     "execution_count": 17
    }
   ],
   "source": [
    "unknown_data = np.array([[ 0.69646919,  0.28613933,  0.22685145,  0.55131477,  0.71946897,\n",
    "         0.42310646,  0.9807642 ,  0.68482974,  0.4809319 ,  0.39211752,\n",
    "         0.34317802,  0.72904971,  0.43857224,  0.0596779 ,  0.39804426,\n",
    "         0.73799541]])\n",
    "\n",
    "# make the predictions\n",
    "predictions = knn.predict(unknown_data)\n",
    "\"Prediction : {}\".format(predictions)\n"
   ],
   "metadata": {
    "collapsed": false,
    "pycharm": {
     "name": "#%%\n",
     "is_executing": false
    }
   }
  }
 ],
 "metadata": {
  "language_info": {
   "codemirror_mode": {
    "name": "ipython",
    "version": 2
   },
   "file_extension": ".py",
   "mimetype": "text/x-python",
   "name": "python",
   "nbconvert_exporter": "python",
   "pygments_lexer": "ipython2",
   "version": "2.7.6"
  },
  "kernelspec": {
   "name": "python3",
   "language": "python",
   "display_name": "Python 3"
  },
  "pycharm": {
   "stem_cell": {
    "cell_type": "raw",
    "source": [],
    "metadata": {
     "collapsed": false
    }
   }
  }
 },
 "nbformat": 4,
 "nbformat_minor": 0
}