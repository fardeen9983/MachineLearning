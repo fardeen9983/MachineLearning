{
 "cells": [
  {
   "cell_type": "code",
   "execution_count": null,
   "metadata": {
    "collapsed": true
   },
   "outputs": [],
   "source": []
  },
  {
   "cell_type": "markdown",
   "source": [
    "# Measuring model performance\n",
    "### Accuracy\n",
    "It is the fraction of correct predictions made\n",
    "\n",
    "* Testing the accuracy of the model on training data itself is not indicative of it's accuracy\n",
    "* For this we can divide our data into testing and training set\n",
    "    * Fit/Train the model on the training set\n",
    "    * Make predictions on the test set\n",
    "    * Compare predictions on known labels\n",
    "    * Compute the accuracy"
   ],
   "metadata": {
    "collapsed": false
   }
  },
  {
   "cell_type": "markdown",
   "source": [
    "### Split the dataset "
   ],
   "metadata": {
    "collapsed": false,
    "pycharm": {
     "name": "#%% md\n"
    }
   }
  },
  {
   "cell_type": "code",
   "execution_count": 15,
   "outputs": [],
   "source": [
    "import pandas as pd\n",
    "import numpy as np\n",
    "from sklearn.neighbors import KNeighborsClassifier\n",
    "from sklearn.model_selection import train_test_split\n",
    "\n",
    "votes = pd.read_csv('votes.csv')\n",
    "y = votes.party.values\n",
    "x = votes.drop('party',axis=1).values\n",
    "\n",
    "# Split intro train and test sets \n",
    "x_train,x_test,y_train,y_test = train_test_split(x,y,test_size=0.3,random_state=21, stratify=y)"
   ],
   "metadata": {
    "collapsed": false,
    "pycharm": {
     "name": "#%%\n",
     "is_executing": false
    }
   }
  },
  {
   "cell_type": "markdown",
   "source": [
    "Arguments :\n",
    "* x : the training data\n",
    "* y : target data\n",
    "* test_size : ratio of data to be used for testing\n",
    "* random_state : sets the seed for the random generator for splitting the test and train data\n",
    "* stratify : Takes the array and makes sure that the test and train split have similar distribution "
   ],
   "metadata": {
    "collapsed": false,
    "pycharm": {
     "name": "#%% md\n"
    }
   }
  },
  {
   "cell_type": "markdown",
   "source": [
    "### Train and model"
   ],
   "metadata": {
    "collapsed": false,
    "pycharm": {
     "name": "#%% md\n"
    }
   }
  },
  {
   "cell_type": "code",
   "execution_count": 18,
   "outputs": [
    {
     "data": {
      "text/plain": "KNeighborsClassifier(algorithm='auto', leaf_size=30, metric='minkowski',\n                     metric_params=None, n_jobs=None, n_neighbors=6, p=2,\n                     weights='uniform')"
     },
     "metadata": {},
     "output_type": "execute_result",
     "execution_count": 18
    }
   ],
   "source": [
    "knn = KNeighborsClassifier(n_neighbors=6)\n",
    "knn.fit(x_train,y_train)"
   ],
   "metadata": {
    "collapsed": false,
    "pycharm": {
     "name": "#%%\n",
     "is_executing": false
    }
   }
  },
  {
   "cell_type": "markdown",
   "source": [
    "### Make predictions and check the accuracy"
   ],
   "metadata": {
    "collapsed": false,
    "pycharm": {
     "name": "#%% md\n"
    }
   }
  },
  {
   "cell_type": "code",
   "execution_count": 20,
   "outputs": [
    {
     "data": {
      "text/plain": "\"Test predictions : ['democrat' 'republican' 'republican' 'democrat' 'democrat' 'democrat'\\n 'republican' 'republican' 'democrat' 'republican' 'democrat' 'republican'\\n 'democrat' 'democrat' 'republican' 'democrat' 'democrat' 'republican'\\n 'democrat' 'democrat' 'republican' 'democrat' 'democrat' 'republican'\\n 'democrat' 'republican' 'democrat' 'republican' 'republican' 'republican'\\n 'republican' 'republican' 'democrat' 'republican' 'democrat' 'republican'\\n 'democrat' 'democrat' 'democrat' 'democrat' 'democrat' 'republican'\\n 'democrat' 'democrat' 'democrat' 'republican' 'democrat' 'republican'\\n 'republican' 'republican' 'democrat' 'republican' 'democrat' 'democrat'\\n 'democrat' 'democrat' 'democrat' 'democrat' 'republican' 'democrat'\\n 'democrat' 'democrat' 'democrat' 'democrat' 'democrat' 'republican'\\n 'democrat' 'republican' 'democrat' 'democrat' 'republican' 'democrat'\\n 'democrat' 'democrat' 'democrat' 'democrat' 'republican' 'democrat'\\n 'democrat' 'democrat' 'democrat' 'democrat' 'democrat' 'republican'\\n 'democrat' 'republican' 'democrat' 'democrat' 'republican' 'republican'\\n 'republican' 'republican' 'democrat' 'democrat' 'republican' 'democrat'\\n 'democrat' 'democrat' 'republican' 'democrat' 'republican' 'republican'\\n 'republican' 'republican' 'republican' 'republican' 'republican'\\n 'republican' 'republican' 'democrat' 'democrat' 'democrat' 'democrat'\\n 'democrat' 'republican' 'democrat' 'democrat' 'republican' 'republican'\\n 'democrat' 'democrat' 'democrat' 'democrat' 'republican' 'democrat'\\n 'democrat' 'republican' 'democrat' 'democrat' 'democrat' 'democrat']\""
     },
     "metadata": {},
     "output_type": "execute_result",
     "execution_count": 20
    }
   ],
   "source": [
    "y_pred = knn.predict(x_test)\n",
    "\"Test predictions : {}\".format(y_pred)"
   ],
   "metadata": {
    "collapsed": false,
    "pycharm": {
     "name": "#%%\n",
     "is_executing": false
    }
   }
  },
  {
   "cell_type": "code",
   "execution_count": 21,
   "outputs": [
    {
     "data": {
      "text/plain": "0.9694656488549618"
     },
     "metadata": {},
     "output_type": "execute_result",
     "execution_count": 21
    }
   ],
   "source": [
    "# Check accuracy\n",
    "knn.score(x_test,y_test)\n"
   ],
   "metadata": {
    "collapsed": false,
    "pycharm": {
     "name": "#%%\n",
     "is_executing": false
    }
   }
  }
 ],
 "metadata": {
  "language_info": {
   "codemirror_mode": {
    "name": "ipython",
    "version": 2
   },
   "file_extension": ".py",
   "mimetype": "text/x-python",
   "name": "python",
   "nbconvert_exporter": "python",
   "pygments_lexer": "ipython2",
   "version": "2.7.6"
  },
  "kernelspec": {
   "name": "python3",
   "language": "python",
   "display_name": "Python 3"
  },
  "pycharm": {
   "stem_cell": {
    "cell_type": "raw",
    "source": [],
    "metadata": {
     "collapsed": false
    }
   }
  }
 },
 "nbformat": 4,
 "nbformat_minor": 0
}